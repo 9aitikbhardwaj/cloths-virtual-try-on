{
  "nbformat": 4,
  "nbformat_minor": 0,
  "metadata": {
    "colab": {
      "name": "ClothSegm_u2net.ipynb",
      "provenance": [],
      "collapsed_sections": []
    },
    "kernelspec": {
      "name": "python3",
      "display_name": "Python 3"
    },
    "accelerator": "GPU",
    "widgets": {
      "application/vnd.jupyter.widget-state+json": {
        "3c1a52dfcd494ce8a13f4623052383fd": {
          "model_module": "@jupyter-widgets/controls",
          "model_name": "HBoxModel",
          "state": {
            "_view_name": "HBoxView",
            "_dom_classes": [],
            "_model_name": "HBoxModel",
            "_view_module": "@jupyter-widgets/controls",
            "_model_module_version": "1.5.0",
            "_view_count": null,
            "_view_module_version": "1.5.0",
            "box_style": "",
            "layout": "IPY_MODEL_c92bf606fa854dc88b2e8d04c0714e39",
            "_model_module": "@jupyter-widgets/controls",
            "children": [
              "IPY_MODEL_c78e8c3f30a34c37a11cdb1e50e407c8",
              "IPY_MODEL_085c41c7e29142cfa26f924baf498361"
            ]
          },
          "model_module_version": "1.5.0"
        },
        "c92bf606fa854dc88b2e8d04c0714e39": {
          "model_module": "@jupyter-widgets/base",
          "model_name": "LayoutModel",
          "state": {
            "_view_name": "LayoutView",
            "grid_template_rows": null,
            "right": null,
            "justify_content": null,
            "_view_module": "@jupyter-widgets/base",
            "overflow": null,
            "_model_module_version": "1.2.0",
            "_view_count": null,
            "flex_flow": null,
            "width": null,
            "min_width": null,
            "border": null,
            "align_items": null,
            "bottom": null,
            "_model_module": "@jupyter-widgets/base",
            "top": null,
            "grid_column": null,
            "overflow_y": null,
            "overflow_x": null,
            "grid_auto_flow": null,
            "grid_area": null,
            "grid_template_columns": null,
            "flex": null,
            "_model_name": "LayoutModel",
            "justify_items": null,
            "grid_row": null,
            "max_height": null,
            "align_content": null,
            "visibility": null,
            "align_self": null,
            "height": null,
            "min_height": null,
            "padding": null,
            "grid_auto_rows": null,
            "grid_gap": null,
            "max_width": null,
            "order": null,
            "_view_module_version": "1.2.0",
            "grid_template_areas": null,
            "object_position": null,
            "object_fit": null,
            "grid_auto_columns": null,
            "margin": null,
            "display": null,
            "left": null
          },
          "model_module_version": "1.2.0"
        },
        "c78e8c3f30a34c37a11cdb1e50e407c8": {
          "model_module": "@jupyter-widgets/controls",
          "model_name": "FloatProgressModel",
          "state": {
            "_view_name": "ProgressView",
            "style": "IPY_MODEL_89d83f9773cf49d1bea7cb0c1c6fcec2",
            "_dom_classes": [],
            "description": "100%",
            "_model_name": "FloatProgressModel",
            "bar_style": "success",
            "max": 1,
            "_view_module": "@jupyter-widgets/controls",
            "_model_module_version": "1.5.0",
            "value": 1,
            "_view_count": null,
            "_view_module_version": "1.5.0",
            "orientation": "horizontal",
            "min": 0,
            "description_tooltip": null,
            "_model_module": "@jupyter-widgets/controls",
            "layout": "IPY_MODEL_c69846b9445d479fbccfec28c0f00971"
          },
          "model_module_version": "1.5.0"
        },
        "085c41c7e29142cfa26f924baf498361": {
          "model_module": "@jupyter-widgets/controls",
          "model_name": "HTMLModel",
          "state": {
            "_view_name": "HTMLView",
            "style": "IPY_MODEL_e7509a5798be4b43864626dbc3a3416b",
            "_dom_classes": [],
            "description": "",
            "_model_name": "HTMLModel",
            "placeholder": "​",
            "_view_module": "@jupyter-widgets/controls",
            "_model_module_version": "1.5.0",
            "value": " 1/1 [00:00&lt;00:00,  2.15it/s]",
            "_view_count": null,
            "_view_module_version": "1.5.0",
            "description_tooltip": null,
            "_model_module": "@jupyter-widgets/controls",
            "layout": "IPY_MODEL_1af9ce17b82947b4a73113d6b0770795"
          },
          "model_module_version": "1.5.0"
        },
        "89d83f9773cf49d1bea7cb0c1c6fcec2": {
          "model_module": "@jupyter-widgets/controls",
          "model_name": "ProgressStyleModel",
          "state": {
            "_view_name": "StyleView",
            "_model_name": "ProgressStyleModel",
            "description_width": "initial",
            "_view_module": "@jupyter-widgets/base",
            "_model_module_version": "1.5.0",
            "_view_count": null,
            "_view_module_version": "1.2.0",
            "bar_color": null,
            "_model_module": "@jupyter-widgets/controls"
          },
          "model_module_version": "1.5.0"
        },
        "c69846b9445d479fbccfec28c0f00971": {
          "model_module": "@jupyter-widgets/base",
          "model_name": "LayoutModel",
          "state": {
            "_view_name": "LayoutView",
            "grid_template_rows": null,
            "right": null,
            "justify_content": null,
            "_view_module": "@jupyter-widgets/base",
            "overflow": null,
            "_model_module_version": "1.2.0",
            "_view_count": null,
            "flex_flow": null,
            "width": null,
            "min_width": null,
            "border": null,
            "align_items": null,
            "bottom": null,
            "_model_module": "@jupyter-widgets/base",
            "top": null,
            "grid_column": null,
            "overflow_y": null,
            "overflow_x": null,
            "grid_auto_flow": null,
            "grid_area": null,
            "grid_template_columns": null,
            "flex": null,
            "_model_name": "LayoutModel",
            "justify_items": null,
            "grid_row": null,
            "max_height": null,
            "align_content": null,
            "visibility": null,
            "align_self": null,
            "height": null,
            "min_height": null,
            "padding": null,
            "grid_auto_rows": null,
            "grid_gap": null,
            "max_width": null,
            "order": null,
            "_view_module_version": "1.2.0",
            "grid_template_areas": null,
            "object_position": null,
            "object_fit": null,
            "grid_auto_columns": null,
            "margin": null,
            "display": null,
            "left": null
          },
          "model_module_version": "1.2.0"
        },
        "e7509a5798be4b43864626dbc3a3416b": {
          "model_module": "@jupyter-widgets/controls",
          "model_name": "DescriptionStyleModel",
          "state": {
            "_view_name": "StyleView",
            "_model_name": "DescriptionStyleModel",
            "description_width": "",
            "_view_module": "@jupyter-widgets/base",
            "_model_module_version": "1.5.0",
            "_view_count": null,
            "_view_module_version": "1.2.0",
            "_model_module": "@jupyter-widgets/controls"
          },
          "model_module_version": "1.5.0"
        },
        "1af9ce17b82947b4a73113d6b0770795": {
          "model_module": "@jupyter-widgets/base",
          "model_name": "LayoutModel",
          "state": {
            "_view_name": "LayoutView",
            "grid_template_rows": null,
            "right": null,
            "justify_content": null,
            "_view_module": "@jupyter-widgets/base",
            "overflow": null,
            "_model_module_version": "1.2.0",
            "_view_count": null,
            "flex_flow": null,
            "width": null,
            "min_width": null,
            "border": null,
            "align_items": null,
            "bottom": null,
            "_model_module": "@jupyter-widgets/base",
            "top": null,
            "grid_column": null,
            "overflow_y": null,
            "overflow_x": null,
            "grid_auto_flow": null,
            "grid_area": null,
            "grid_template_columns": null,
            "flex": null,
            "_model_name": "LayoutModel",
            "justify_items": null,
            "grid_row": null,
            "max_height": null,
            "align_content": null,
            "visibility": null,
            "align_self": null,
            "height": null,
            "min_height": null,
            "padding": null,
            "grid_auto_rows": null,
            "grid_gap": null,
            "max_width": null,
            "order": null,
            "_view_module_version": "1.2.0",
            "grid_template_areas": null,
            "object_position": null,
            "object_fit": null,
            "grid_auto_columns": null,
            "margin": null,
            "display": null,
            "left": null
          },
          "model_module_version": "1.2.0"
        }
      }
    }
  },
  "cells": [
    {
      "cell_type": "code",
      "metadata": {
        "colab": {
          "base_uri": "https://localhost:8080/"
        },
        "id": "HVVgm8h0itel",
        "outputId": "3b1240a3-7897-4c95-917b-0d3318de32c8"
      },
      "source": [
        "%cd /content/\n",
        "!rm -rf cloth-segmentation\n",
        "!git clone https://github.com/levindabhi/cloth-segmentation.git\n",
        "%cd cloth-segmentation\n",
        "!gdown --id 1mhF3yqd7R-Uje092eypktNl-RoZNuiCJ\n",
        "!mkdir input_images\n",
        "!mkdir output_images"
      ],
      "execution_count": null,
      "outputs": [
        {
          "output_type": "stream",
          "text": [
            "/content\n",
            "Cloning into 'cloth-segmentation'...\n",
            "remote: Enumerating objects: 56, done.\u001b[K\n",
            "remote: Counting objects: 100% (56/56), done.\u001b[K\n",
            "remote: Compressing objects: 100% (52/52), done.\u001b[K\n",
            "remote: Total 56 (delta 2), reused 0 (delta 0), pack-reused 0\u001b[K\n",
            "Unpacking objects: 100% (56/56), done.\n",
            "/content/cloth-segmentation\n",
            "Downloading...\n",
            "From: https://drive.google.com/uc?id=1mhF3yqd7R-Uje092eypktNl-RoZNuiCJ\n",
            "To: /content/cloth-segmentation/cloth_segm_u2net_latest.pth\n",
            "177MB [00:01, 157MB/s]\n"
          ],
          "name": "stdout"
        }
      ]
    },
    {
      "cell_type": "markdown",
      "metadata": {
        "id": "IqvP16OtiKHu"
      },
      "source": [
        "# Upload input images in *input_images* folder.\n",
        "\n"
      ]
    },
    {
      "cell_type": "code",
      "metadata": {
        "colab": {
          "base_uri": "https://localhost:8080/",
          "height": 216,
          "referenced_widgets": [
            "3c1a52dfcd494ce8a13f4623052383fd",
            "c92bf606fa854dc88b2e8d04c0714e39",
            "c78e8c3f30a34c37a11cdb1e50e407c8",
            "085c41c7e29142cfa26f924baf498361",
            "89d83f9773cf49d1bea7cb0c1c6fcec2",
            "c69846b9445d479fbccfec28c0f00971",
            "e7509a5798be4b43864626dbc3a3416b",
            "1af9ce17b82947b4a73113d6b0770795"
          ]
        },
        "id": "wNPEQFXSj1cr",
        "outputId": "3a9d67f4-b0bb-441c-90e0-74f560f6297a"
      },
      "source": [
        "import os\n",
        "# from tqdm import tqdm\n",
        "from tqdm.notebook import tqdm\n",
        "from PIL import Image\n",
        "import numpy as np\n",
        "\n",
        "import torch\n",
        "import torch.nn.functional as F\n",
        "import torchvision.transforms as transforms\n",
        "\n",
        "from data.base_dataset import Normalize_image\n",
        "from utils.saving_utils import load_checkpoint_mgpu\n",
        "\n",
        "from networks import U2NET\n",
        "device = 'cuda'\n",
        "\n",
        "image_dir = 'input_images'\n",
        "result_dir = 'output_images'\n",
        "checkpoint_path = 'cloth_segm_u2net_latest.pth'\n",
        "\n",
        "def get_palette(num_cls):\n",
        "    \"\"\" Returns the color map for visualizing the segmentation mask.\n",
        "    Args:\n",
        "        num_cls: Number of classes\n",
        "    Returns:\n",
        "        The color map\n",
        "    \"\"\"\n",
        "    n = num_cls\n",
        "    palette = [0] * (n * 3)\n",
        "    for j in range(0, n):\n",
        "        lab = j\n",
        "        palette[j * 3 + 0] = 0\n",
        "        palette[j * 3 + 1] = 0\n",
        "        palette[j * 3 + 2] = 0\n",
        "        i = 0\n",
        "        while lab:\n",
        "            palette[j * 3 + 0] = 255\n",
        "            palette[j * 3 + 1] = 255\n",
        "            palette[j * 3 + 2] = 255\n",
        "            # palette[j * 3 + 0] |= (((lab >> 0) & 1) << (7 - i))\n",
        "            # palette[j * 3 + 1] |= (((lab >> 1) & 1) << (7 - i))\n",
        "            # palette[j * 3 + 2] |= (((lab >> 2) & 1) << (7 - i))\n",
        "            i += 1\n",
        "            lab >>= 3\n",
        "    return palette\n",
        "\n",
        "\n",
        "transforms_list = []\n",
        "transforms_list += [transforms.ToTensor()]\n",
        "transforms_list += [Normalize_image(0.5, 0.5)]\n",
        "transform_rgb = transforms.Compose(transforms_list)\n",
        "\n",
        "net = U2NET(in_ch=3, out_ch=4)\n",
        "net = load_checkpoint_mgpu(net, checkpoint_path)\n",
        "net = net.to(device)\n",
        "net = net.eval()\n",
        "\n",
        "palette = get_palette(4)\n",
        "\n",
        "images_list = sorted(os.listdir(image_dir))\n",
        "pbar = tqdm(total=len(images_list))\n",
        "for image_name in images_list:\n",
        "    img = Image.open(os.path.join(image_dir, image_name)).convert('RGB')\n",
        "    img_size = img.size\n",
        "    img = img.resize((768, 768), Image.BICUBIC)\n",
        "    image_tensor = transform_rgb(img)\n",
        "    image_tensor = torch.unsqueeze(image_tensor, 0)\n",
        "    \n",
        "    output_tensor = net(image_tensor.to(device))\n",
        "    output_tensor = F.log_softmax(output_tensor[0], dim=1)\n",
        "    output_tensor = torch.max(output_tensor, dim=1, keepdim=True)[1]\n",
        "    output_tensor = torch.squeeze(output_tensor, dim=0)\n",
        "    output_tensor = torch.squeeze(output_tensor, dim=0)\n",
        "    output_arr = output_tensor.cpu().numpy()\n",
        "\n",
        "    output_img = Image.fromarray(output_arr.astype('uint8'), mode='L')\n",
        "    output_img = output_img.resize(img_size, Image.BICUBIC)\n",
        "    \n",
        "    output_img.putpalette(palette)\n",
        "    output_img.save(os.path.join(result_dir, image_name[:-4]+'_generated.png'))\n",
        "    \n",
        "    pbar.update(1)\n",
        "\n",
        "pbar.close()"
      ],
      "execution_count": null,
      "outputs": [
        {
          "output_type": "stream",
          "text": [
            "----checkpoints loaded from path: cloth_segm_u2net_latest.pth----\n"
          ],
          "name": "stdout"
        },
        {
          "output_type": "display_data",
          "data": {
            "application/vnd.jupyter.widget-view+json": {
              "model_id": "3c1a52dfcd494ce8a13f4623052383fd",
              "version_minor": 0,
              "version_major": 2
            },
            "text/plain": [
              "HBox(children=(FloatProgress(value=0.0, max=1.0), HTML(value='')))"
            ]
          },
          "metadata": {
            "tags": []
          }
        },
        {
          "output_type": "stream",
          "text": [
            "/usr/local/lib/python3.7/dist-packages/torch/nn/functional.py:718: UserWarning: Named tensors and all their associated APIs are an experimental feature and subject to change. Please do not use them for anything important until they are released as stable. (Triggered internally at  /pytorch/c10/core/TensorImpl.h:1156.)\n",
            "  return torch.max_pool2d(input, kernel_size, stride, padding, dilation, ceil_mode)\n",
            "/usr/local/lib/python3.7/dist-packages/torch/nn/functional.py:3487: UserWarning: nn.functional.upsample is deprecated. Use nn.functional.interpolate instead.\n",
            "  warnings.warn(\"nn.functional.upsample is deprecated. Use nn.functional.interpolate instead.\")\n",
            "/usr/local/lib/python3.7/dist-packages/torch/nn/functional.py:3613: UserWarning: Default upsampling behavior when mode=bilinear is changed to align_corners=False since 0.4.0. Please specify align_corners=True if the old behavior is desired. See the documentation of nn.Upsample for details.\n",
            "  \"See the documentation of nn.Upsample for details.\".format(mode)\n"
          ],
          "name": "stderr"
        },
        {
          "output_type": "stream",
          "text": [
            "\n"
          ],
          "name": "stdout"
        }
      ]
    },
    {
      "cell_type": "markdown",
      "metadata": {
        "id": "bRtjAtdvig6u"
      },
      "source": [
        "# Download results from *output_images*"
      ]
    }
  ]
}